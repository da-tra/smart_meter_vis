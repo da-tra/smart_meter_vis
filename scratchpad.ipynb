{
 "cells": [
  {
   "cell_type": "code",
   "execution_count": 28,
   "metadata": {},
   "outputs": [],
   "source": [
    "%run //home/sammelkorn/repos/smart_meter_vis_scratchpad/scratchpad.ipynb"
   ]
  },
  {
   "cell_type": "code",
   "execution_count": 29,
   "metadata": {},
   "outputs": [],
   "source": [
    "#imported from private scratchpad\n",
    "# api_key"
   ]
  },
  {
   "cell_type": "code",
   "execution_count": 30,
   "metadata": {},
   "outputs": [
    {
     "data": {
      "text/plain": [
       "'TAGESWERTE-20220325-bis-20250324.csv'"
      ]
     },
     "execution_count": 30,
     "metadata": {},
     "output_type": "execute_result"
    }
   ],
   "source": [
    "#imported from private scratchpad\n",
    "usage_data"
   ]
  },
  {
   "cell_type": "code",
   "execution_count": 31,
   "metadata": {},
   "outputs": [],
   "source": [
    "import requests"
   ]
  },
  {
   "cell_type": "code",
   "execution_count": 32,
   "metadata": {},
   "outputs": [],
   "source": [
    "# API call\n",
    "# lon = 16.3725042\n",
    "# lat = 48.2083537\n",
    "# date = \"2025-03-18\""
   ]
  },
  {
   "cell_type": "code",
   "execution_count": 35,
   "metadata": {},
   "outputs": [
    {
     "data": {
      "text/plain": [
       "{'lat': 48.2083537,\n",
       " 'lon': 16.3725042,\n",
       " 'tz': '+01:00',\n",
       " 'date': '2025-03-18',\n",
       " 'units': 'standard',\n",
       " 'cloud_cover': {'afternoon': 20.0},\n",
       " 'humidity': {'afternoon': 45.0},\n",
       " 'precipitation': {'total': 0.0},\n",
       " 'temperature': {'min': 270.23,\n",
       "  'max': 279.98,\n",
       "  'afternoon': 278.32,\n",
       "  'night': 272.01,\n",
       "  'evening': 277.69,\n",
       "  'morning': 270.23},\n",
       " 'pressure': {'afternoon': 1033.0},\n",
       " 'wind': {'max': {'speed': 4.12, 'direction': 350.0}}}"
      ]
     },
     "execution_count": 35,
     "metadata": {},
     "output_type": "execute_result"
    }
   ],
   "source": [
    "url = f\"https://api.openweathermap.org/data/3.0/onecall/day_summary?lat=48.2083537&lon=16.3725042&date=2025-03-18&appid={api_key}\"\n",
    "response = requests.get(url=url)\n",
    "response.json()"
   ]
  }
 ],
 "metadata": {
  "kernelspec": {
   "display_name": "base",
   "language": "python",
   "name": "python3"
  },
  "language_info": {
   "codemirror_mode": {
    "name": "ipython",
    "version": 3
   },
   "file_extension": ".py",
   "mimetype": "text/x-python",
   "name": "python",
   "nbconvert_exporter": "python",
   "pygments_lexer": "ipython3",
   "version": "3.12.2"
  }
 },
 "nbformat": 4,
 "nbformat_minor": 2
}
